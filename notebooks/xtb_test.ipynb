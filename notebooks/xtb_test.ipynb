{
 "metadata": {
  "language_info": {
   "codemirror_mode": {
    "name": "ipython",
    "version": 3
   },
   "file_extension": ".py",
   "mimetype": "text/x-python",
   "name": "python",
   "nbconvert_exporter": "python",
   "pygments_lexer": "ipython3",
   "version": "3.7.9-final"
  },
  "orig_nbformat": 2,
  "kernelspec": {
   "name": "python3",
   "display_name": "Python 3.7.9 64-bit ('torsion': conda)",
   "metadata": {
    "interpreter": {
     "hash": "9538ff40b203b057fdbf926d7c7eefa8491369636116143f625d340c7d4f57db"
    }
   }
  }
 },
 "nbformat": 4,
 "nbformat_minor": 2,
 "cells": [
  {
   "cell_type": "code",
   "execution_count": 2,
   "metadata": {},
   "outputs": [],
   "source": [
    "from rdkit import Chem\n",
    "from rdkit.Chem import AllChem\n",
    "import os, tempfile, shutil\n",
    "#from IPython.display import display\n",
    "from rdkit.Chem import Draw\n",
    "import py3Dmol\n",
    "\n",
    "\n",
    "mol=Chem.AddHs(Chem.MolFromSmiles('CCCOC1=CC=C(Cl)C(C)=C1'))\n",
    "for i, a in enumerate(mol.GetAtoms()):\n",
    "        a.SetAtomMapNum(i)\n",
    "AllChem.EmbedMolecule(mol,randomSeed=10)\n",
    "#mol\n",
    "#Draw.MolToImage(mol, includeAtomNumbers=True,highlightAtoms=(1,2,3,4))\n",
    "Draw.MolToFile(mol,\"mol.png\")\n",
    "\n",
    "\n"
   ]
  },
  {
   "cell_type": "code",
   "execution_count": 8,
   "metadata": {},
   "outputs": [
    {
     "output_type": "execute_result",
     "data": {
      "text/html": "\n<div id=\"altair-viz-d2a14367d9814950b913624d4c198e9c\"></div>\n<script type=\"text/javascript\">\n  (function(spec, embedOpt){\n    let outputDiv = document.currentScript.previousElementSibling;\n    if (outputDiv.id !== \"altair-viz-d2a14367d9814950b913624d4c198e9c\") {\n      outputDiv = document.getElementById(\"altair-viz-d2a14367d9814950b913624d4c198e9c\");\n    }\n    const paths = {\n      \"vega\": \"https://cdn.jsdelivr.net/npm//vega@5?noext\",\n      \"vega-lib\": \"https://cdn.jsdelivr.net/npm//vega-lib?noext\",\n      \"vega-lite\": \"https://cdn.jsdelivr.net/npm//vega-lite@4.8.1?noext\",\n      \"vega-embed\": \"https://cdn.jsdelivr.net/npm//vega-embed@6?noext\",\n    };\n\n    function loadScript(lib) {\n      return new Promise(function(resolve, reject) {\n        var s = document.createElement('script');\n        s.src = paths[lib];\n        s.async = true;\n        s.onload = () => resolve(paths[lib]);\n        s.onerror = () => reject(`Error loading script: ${paths[lib]}`);\n        document.getElementsByTagName(\"head\")[0].appendChild(s);\n      });\n    }\n\n    function showError(err) {\n      outputDiv.innerHTML = `<div class=\"error\" style=\"color:red;\">${err}</div>`;\n      throw err;\n    }\n\n    function displayChart(vegaEmbed) {\n      vegaEmbed(outputDiv, spec, embedOpt)\n        .catch(err => showError(`Javascript Error: ${err.message}<br>This usually means there's a typo in your chart specification. See the javascript console for the full traceback.`));\n    }\n\n    if(typeof define === \"function\" && define.amd) {\n      requirejs.config({paths});\n      require([\"vega-embed\"], displayChart, err => showError(`Error loading script: ${err.message}`));\n    } else if (typeof vegaEmbed === \"function\") {\n      displayChart(vegaEmbed);\n    } else {\n      loadScript(\"vega\")\n        .then(() => loadScript(\"vega-lite\"))\n        .then(() => loadScript(\"vega-embed\"))\n        .catch(showError)\n        .then(() => displayChart(vegaEmbed));\n    }\n  })({\"config\": {\"view\": {\"continuousWidth\": 400, \"continuousHeight\": 300}}, \"data\": {\"name\": \"data-5a8628b2fe510fdf9ee991259367ef16\"}, \"mark\": {\"type\": \"line\", \"interpolate\": \"natural\", \"point\": true}, \"encoding\": {\"x\": {\"type\": \"quantitative\", \"field\": \"angle\", \"scale\": {\"zero\": false}}, \"y\": {\"type\": \"quantitative\", \"field\": \"energy\", \"scale\": {\"zero\": false}}}, \"selection\": {\"selector004\": {\"type\": \"interval\", \"bind\": \"scales\", \"encodings\": [\"x\", \"y\"]}}, \"$schema\": \"https://vega.github.io/schema/vega-lite/v4.8.1.json\", \"datasets\": {\"data-5a8628b2fe510fdf9ee991259367ef16\": [{\"angle\": 0, \"energy\": 620.989355421067}, {\"angle\": 10, \"energy\": 615.7841635282731}, {\"angle\": 20, \"energy\": 605.0064045079387}, {\"angle\": 30, \"energy\": 585.9096654158492}, {\"angle\": 40, \"energy\": 555.5343089066367}, {\"angle\": 50, \"energy\": 24.17449563971809}, {\"angle\": 60, \"energy\": 23.048081928824377}, {\"angle\": 70, \"energy\": 22.355345744652553}, {\"angle\": 80, \"energy\": 22.01278285916455}, {\"angle\": 90, \"energy\": 21.952194229636717}, {\"angle\": 100, \"energy\": 22.08970200029826}, {\"angle\": 110, \"energy\": 22.324413910773615}, {\"angle\": 120, \"energy\": 22.555415687282537}, {\"angle\": 130, \"energy\": 22.69895155375408}, {\"angle\": 140, \"energy\": 21.50951779341781}, {\"angle\": 150, \"energy\": 20.87729630227783}, {\"angle\": 160, \"energy\": 20.33347545326556}, {\"angle\": 170, \"energy\": 19.96939605129096}, {\"angle\": 180, \"energy\": 19.83603529055038}, {\"angle\": 190, \"energy\": 19.94286715866218}, {\"angle\": 200, \"energy\": 20.273592671905913}, {\"angle\": 210, \"energy\": 20.77417861862089}, {\"angle\": 220, \"energy\": 21.363328712075337}, {\"angle\": 230, \"energy\": 21.965133087446773}, {\"angle\": 240, \"energy\": 22.558931269676755}, {\"angle\": 250, \"energy\": 23.137000881930664}, {\"angle\": 260, \"energy\": 23.64206889844345}, {\"angle\": 270, \"energy\": 23.856339623499426}, {\"angle\": 280, \"energy\": 24.430866284943722}, {\"angle\": 290, \"energy\": 25.234311865673007}, {\"angle\": 300, \"energy\": 26.33698174888261}, {\"angle\": 310, \"energy\": 27.7184748396719}, {\"angle\": 320, \"energy\": 29.203604418131235}, {\"angle\": 330, \"energy\": 30.510267997585398}, {\"angle\": 340, \"energy\": 31.38991978783373}, {\"angle\": 350, \"energy\": 31.701114112173244}, {\"angle\": 360, \"energy\": 31.412871101940645}]}}, {\"mode\": \"vega-lite\"});\n</script>",
      "text/plain": [
       "alt.Chart(...)"
      ]
     },
     "metadata": {},
     "execution_count": 8
    }
   ],
   "source": [
    "# code that should work in theory\n",
    "\n",
    "from rdkit.Chem import rdMolTransforms\n",
    "import altair as alt\n",
    "import copy\n",
    "import pandas as pd\n",
    "from rdkit.Chem import rdForceFieldHelpers\n",
    "from rdkit.Chem import ChemicalForceFields\n",
    "\n",
    "conformer=mol.GetConformer(0)\n",
    "\n",
    "m2=copy.deepcopy(mol)\n",
    "mp2 = AllChem.MMFFGetMoleculeProperties(m2)\n",
    "energy=[]\n",
    "confid=0\n",
    "angles=range(0,370,10)\n",
    "for angle in angles:\n",
    "    confid+=1\n",
    "    ff2 = AllChem.MMFFGetMoleculeForceField(m2, mp2)\n",
    "    ff2.MMFFAddTorsionConstraint(1,2,3,4, False, angle - .1, angle + .1, 10000.0)\n",
    "    ff2.Minimize()\n",
    "    energy.append(ff2.CalcEnergy())\n",
    "\n",
    "    xyz=ff2.Positions()\n",
    "    new_conf = Chem.Conformer(mol.GetNumAtoms())\n",
    "    for i in range(mol.GetNumAtoms()):\n",
    "        new_conf.SetAtomPosition(i, (m2.GetConformer(-1).GetAtomPosition(i)))\n",
    "    new_conf.SetId(confid)\n",
    "    mol.AddConformer(new_conf)\n",
    "\n",
    "\n",
    "dfrdkit = pd.DataFrame({'angle':angles, 'energy':energy})\n",
    "alt.Chart(dfrdkit).mark_line(point=True,interpolate=\"natural\").encode(\n",
    "    alt.X('angle:Q',\n",
    "        scale=alt.Scale(zero=False)\n",
    "    ),\n",
    "    alt.Y('energy:Q',\n",
    "        scale=alt.Scale(zero=False)\n",
    "    )\n",
    ").interactive()"
   ]
  },
  {
   "cell_type": "code",
   "execution_count": 126,
   "metadata": {
    "tags": []
   },
   "outputs": [
    {
     "output_type": "execute_result",
     "data": {
      "text/html": "\n<div id=\"altair-viz-57167f4b805a43d48dffc9f66ee77b0c\"></div>\n<script type=\"text/javascript\">\n  (function(spec, embedOpt){\n    let outputDiv = document.currentScript.previousElementSibling;\n    if (outputDiv.id !== \"altair-viz-57167f4b805a43d48dffc9f66ee77b0c\") {\n      outputDiv = document.getElementById(\"altair-viz-57167f4b805a43d48dffc9f66ee77b0c\");\n    }\n    const paths = {\n      \"vega\": \"https://cdn.jsdelivr.net/npm//vega@5?noext\",\n      \"vega-lib\": \"https://cdn.jsdelivr.net/npm//vega-lib?noext\",\n      \"vega-lite\": \"https://cdn.jsdelivr.net/npm//vega-lite@4.8.1?noext\",\n      \"vega-embed\": \"https://cdn.jsdelivr.net/npm//vega-embed@6?noext\",\n    };\n\n    function loadScript(lib) {\n      return new Promise(function(resolve, reject) {\n        var s = document.createElement('script');\n        s.src = paths[lib];\n        s.async = true;\n        s.onload = () => resolve(paths[lib]);\n        s.onerror = () => reject(`Error loading script: ${paths[lib]}`);\n        document.getElementsByTagName(\"head\")[0].appendChild(s);\n      });\n    }\n\n    function showError(err) {\n      outputDiv.innerHTML = `<div class=\"error\" style=\"color:red;\">${err}</div>`;\n      throw err;\n    }\n\n    function displayChart(vegaEmbed) {\n      vegaEmbed(outputDiv, spec, embedOpt)\n        .catch(err => showError(`Javascript Error: ${err.message}<br>This usually means there's a typo in your chart specification. See the javascript console for the full traceback.`));\n    }\n\n    if(typeof define === \"function\" && define.amd) {\n      requirejs.config({paths});\n      require([\"vega-embed\"], displayChart, err => showError(`Error loading script: ${err.message}`));\n    } else if (typeof vegaEmbed === \"function\") {\n      displayChart(vegaEmbed);\n    } else {\n      loadScript(\"vega\")\n        .then(() => loadScript(\"vega-lite\"))\n        .then(() => loadScript(\"vega-embed\"))\n        .catch(showError)\n        .then(() => displayChart(vegaEmbed));\n    }\n  })({\"config\": {\"view\": {\"continuousWidth\": 400, \"continuousHeight\": 300}}, \"data\": {\"name\": \"data-d3a551264b53d47bc23bb7767b0591d2\"}, \"mark\": {\"type\": \"line\", \"interpolate\": \"natural\", \"point\": true}, \"encoding\": {\"x\": {\"type\": \"quantitative\", \"field\": \"angle\", \"scale\": {\"zero\": false}}, \"y\": {\"type\": \"quantitative\", \"field\": \"energy\", \"scale\": {\"zero\": false}}}, \"selection\": {\"selector055\": {\"type\": \"interval\", \"bind\": \"scales\", \"encodings\": [\"x\", \"y\"]}}, \"$schema\": \"https://vega.github.io/schema/vega-lite/v4.8.1.json\", \"datasets\": {\"data-d3a551264b53d47bc23bb7767b0591d2\": [{\"angle\": 0, \"energy\": 28.820459004815024}, {\"angle\": 10, \"energy\": 28.4727695355476}, {\"angle\": 20, \"energy\": 27.6939446711934}, {\"angle\": 30, \"energy\": 26.536993047851908}, {\"angle\": 40, \"energy\": 25.20331633227484}, {\"angle\": 50, \"energy\": 23.932257115653748}, {\"angle\": 60, \"energy\": 22.914363652205154}, {\"angle\": 70, \"energy\": 22.197527962776146}, {\"angle\": 80, \"energy\": 21.778920731006966}, {\"angle\": 90, \"energy\": 21.64739047548644}, {\"angle\": 100, \"energy\": 21.73606399206476}, {\"angle\": 110, \"energy\": 21.947237149205844}, {\"angle\": 120, \"energy\": 22.17603581170521}, {\"angle\": 130, \"energy\": 22.334448991139972}, {\"angle\": 140, \"energy\": 22.326216713457566}, {\"angle\": 150, \"energy\": 20.669333214727562}, {\"angle\": 160, \"energy\": 20.168025075070442}, {\"angle\": 170, \"energy\": 19.838316417714253}, {\"angle\": 180, \"energy\": 19.72504687152755}, {\"angle\": 190, \"energy\": 19.838316355433783}, {\"angle\": 200, \"energy\": 20.168025098497075}, {\"angle\": 210, \"energy\": 20.66933331121422}, {\"angle\": 220, \"energy\": 21.261304951386762}, {\"angle\": 230, \"energy\": 21.826029389396254}, {\"angle\": 240, \"energy\": 22.247073072448764}, {\"angle\": 250, \"energy\": 22.47494773414066}, {\"angle\": 260, \"energy\": 22.56970165344216}, {\"angle\": 270, \"energy\": 22.633290543392267}, {\"angle\": 280, \"energy\": 22.710224236859823}, {\"angle\": 290, \"energy\": 22.266835102586604}, {\"angle\": 300, \"energy\": 22.954697047878643}, {\"angle\": 310, \"energy\": 23.94153700574443}, {\"angle\": 320, \"energy\": 25.192204383039265}, {\"angle\": 330, \"energy\": 26.516878242047344}, {\"angle\": 340, \"energy\": 27.674240930171596}, {\"angle\": 350, \"energy\": 28.460694362525633}, {\"angle\": 360, \"energy\": 28.745915792834893}]}}, {\"mode\": \"vega-lite\"});\n</script>",
      "text/plain": [
       "alt.Chart(...)"
      ]
     },
     "metadata": {},
     "execution_count": 126
    }
   ],
   "source": [
    "from rdkit.Chem import rdMolTransforms\n",
    "import altair as alt\n",
    "import copy\n",
    "import pandas as pd\n",
    "from rdkit.Chem import rdForceFieldHelpers\n",
    "from rdkit.Chem import ChemicalForceFields\n",
    "\n",
    "conformer=mol.GetConformer(0)\n",
    "mp = AllChem.MMFFGetMoleculeProperties(mol)\n",
    "mp.SetMMFFAngleTerm(True)\n",
    "mp.SetMMFFEleTerm(True)\n",
    "mp.SetMMFFOopTerm(False)\n",
    "mp.SetMMFFVdWTerm(True)\n",
    "mp.SetMMFFStretchBendTerm(True)\n",
    "ffm = AllChem.MMFFGetMoleculeForceField(mol, mp)\n",
    "m2=copy.deepcopy(mol)\n",
    "energy=[]\n",
    "confid=0\n",
    "for angle in range(0,370,10):\n",
    "    confid+=1\n",
    "    ff2 = AllChem.MMFFGetMoleculeForceField(m2, mp)\n",
    "    ff2.MMFFAddTorsionConstraint(1,2,3,4, False, angle - .1, angle + .1, 10000.0)\n",
    "    ff2.Minimize()\n",
    "    \n",
    "    xyz=ff2.Positions()\n",
    "    new_conf = Chem.Conformer(mol.GetNumAtoms())\n",
    "    for i in range(mol.GetNumAtoms()):\n",
    "        new_conf.SetAtomPosition(i, (m2.GetConformer(-1).GetAtomPosition(i)))\n",
    "    new_conf.SetId(confid)\n",
    "    mol.AddConformer(new_conf)\n",
    "    energy.append(ffm.CalcEnergy(ff2.Positions()))\n",
    "dfrdkit = pd.DataFrame({'angle':range(0,370,10), 'energy':energy})\n",
    "alt.Chart(dfrdkit).mark_line(point=True,interpolate=\"natural\").encode(\n",
    "    alt.X('angle:Q',\n",
    "        scale=alt.Scale(zero=False)\n",
    "    ),\n",
    "    alt.Y('energy:Q',\n",
    "        scale=alt.Scale(zero=False)\n",
    "    )\n",
    ").interactive()"
   ]
  },
  {
   "cell_type": "code",
   "execution_count": 3,
   "metadata": {},
   "outputs": [
    {
     "output_type": "display_data",
     "data": {
      "text/plain": "interactive(children=(IntSlider(value=0, description='confId', max=0), Output()), _dom_classes=('widget-intera…",
      "application/vnd.jupyter.widget-view+json": {
       "version_major": 2,
       "version_minor": 0,
       "model_id": "69f36da6088f406887e0fc0118bbbb11"
      }
     },
     "metadata": {}
    },
    {
     "output_type": "execute_result",
     "data": {
      "text/plain": [
       "<function __main__.drawit(m, p, confId)>"
      ]
     },
     "metadata": {},
     "execution_count": 3
    }
   ],
   "source": [
    "from ipywidgets import interact, interactive, fixed\n",
    "patt = Chem.MolFromSmarts('c1ccccc1');patt\n",
    "match = mol.GetSubstructMatch(patt)\n",
    "\n",
    "AllChem.AlignMolConformers(mol,atomIds=match)\n",
    "\n",
    "\n",
    "def drawit(m,p,confId):\n",
    "    mb = Chem.MolToMolBlock(m,confId=confId)\n",
    "    p.removeAllModels()\n",
    "    p.addModel(mb,'sdf')\n",
    "    p.setStyle({'stick':{}})\n",
    "    #p.zoomTo()\n",
    "    return p.show()\n",
    "viewer = py3Dmol.view(width=500, height=500)\n",
    "mb = Chem.MolToMolBlock(mol,confId=0)\n",
    "viewer.addModel(mb,'sdf')\n",
    "viewer.setStyle({'stick':{}})\n",
    "viewer.zoomTo()\n",
    "#viewer.show()\n",
    "conformerIds=[conf.GetId() for conf in mol.GetConformers()]\n",
    "interact(drawit, m=fixed(mol),p=fixed(viewer),confId=(0,mol.GetNumConformers()-1))\n",
    "\n",
    "\n"
   ]
  },
  {
   "cell_type": "code",
   "execution_count": 61,
   "metadata": {},
   "outputs": [],
   "source": []
  },
  {
   "cell_type": "code",
   "execution_count": 131,
   "metadata": {},
   "outputs": [
    {
     "output_type": "stream",
     "name": "stdout",
     "text": [
      "0\n",
      "10\n",
      "20\n",
      "30\n",
      "40\n",
      "50\n",
      "60\n",
      "70\n",
      "80\n",
      "90\n",
      "100\n",
      "110\n",
      "120\n",
      "130\n",
      "140\n",
      "150\n",
      "160\n",
      "170\n",
      "180\n",
      "190\n",
      "200\n",
      "210\n",
      "220\n",
      "230\n",
      "240\n",
      "250\n",
      "260\n",
      "270\n",
      "280\n",
      "290\n",
      "300\n",
      "310\n",
      "320\n",
      "330\n",
      "340\n",
      "350\n",
      "360\n"
     ]
    }
   ],
   "source": [
    "#write the xtb input file:\n",
    "energy=[]\n",
    "import os\n",
    "for idx,deg in enumerate(range(0,370,10)):\n",
    "  print(deg)\n",
    "  w = Chem.SDWriter('mol.sdf')\n",
    "  w.write(mol,confId=idx+1)\n",
    "  w.close()\n",
    "\n",
    "  atoms = '2,3,4,5'\n",
    "  fh = open(\"dihedral_scan.inp\",\"w\")\n",
    "  fh.write(\"\"\"$constrain\n",
    "    force constant=1.05\n",
    "    dihedral: {},{}\n",
    "  $end\"\"\".format(atoms,float(deg)))\n",
    "  fh.close()\n",
    "  os.system(\"export OMP_STACKSIZE=48G && export OMP_NUM_THREADS=12,1 && xtb mol.sdf --opt vtight --charge 0 --input dihedral_scan.inp\")\n",
    "\n",
    "  sdr=Chem.SDMolSupplier(\"xtbopt.sdf\")\n",
    "  for xtbmol in sdr:\n",
    "      energy.append(xtbmol.GetProp(\"total energy / Eh\"))"
   ]
  },
  {
   "cell_type": "code",
   "execution_count": 132,
   "metadata": {},
   "outputs": [
    {
     "output_type": "execute_result",
     "data": {
      "text/html": "\n<div id=\"altair-viz-f1a084977c5b46149303725982502800\"></div>\n<script type=\"text/javascript\">\n  (function(spec, embedOpt){\n    let outputDiv = document.currentScript.previousElementSibling;\n    if (outputDiv.id !== \"altair-viz-f1a084977c5b46149303725982502800\") {\n      outputDiv = document.getElementById(\"altair-viz-f1a084977c5b46149303725982502800\");\n    }\n    const paths = {\n      \"vega\": \"https://cdn.jsdelivr.net/npm//vega@5?noext\",\n      \"vega-lib\": \"https://cdn.jsdelivr.net/npm//vega-lib?noext\",\n      \"vega-lite\": \"https://cdn.jsdelivr.net/npm//vega-lite@4.8.1?noext\",\n      \"vega-embed\": \"https://cdn.jsdelivr.net/npm//vega-embed@6?noext\",\n    };\n\n    function loadScript(lib) {\n      return new Promise(function(resolve, reject) {\n        var s = document.createElement('script');\n        s.src = paths[lib];\n        s.async = true;\n        s.onload = () => resolve(paths[lib]);\n        s.onerror = () => reject(`Error loading script: ${paths[lib]}`);\n        document.getElementsByTagName(\"head\")[0].appendChild(s);\n      });\n    }\n\n    function showError(err) {\n      outputDiv.innerHTML = `<div class=\"error\" style=\"color:red;\">${err}</div>`;\n      throw err;\n    }\n\n    function displayChart(vegaEmbed) {\n      vegaEmbed(outputDiv, spec, embedOpt)\n        .catch(err => showError(`Javascript Error: ${err.message}<br>This usually means there's a typo in your chart specification. See the javascript console for the full traceback.`));\n    }\n\n    if(typeof define === \"function\" && define.amd) {\n      requirejs.config({paths});\n      require([\"vega-embed\"], displayChart, err => showError(`Error loading script: ${err.message}`));\n    } else if (typeof vegaEmbed === \"function\") {\n      displayChart(vegaEmbed);\n    } else {\n      loadScript(\"vega\")\n        .then(() => loadScript(\"vega-lite\"))\n        .then(() => loadScript(\"vega-embed\"))\n        .catch(showError)\n        .then(() => displayChart(vegaEmbed));\n    }\n  })({\"config\": {\"view\": {\"continuousWidth\": 400, \"continuousHeight\": 300}}, \"layer\": [{\"mark\": {\"type\": \"line\", \"interpolate\": \"natural\", \"stroke\": \"#5276A7\"}, \"encoding\": {\"x\": {\"type\": \"quantitative\", \"axis\": {\"title\": null}, \"field\": \"angle\", \"scale\": {\"domain\": [0, 360, 350]}}, \"y\": {\"type\": \"quantitative\", \"axis\": {\"title\": \"xtb energy\", \"titleColor\": \"#5276A7\"}, \"field\": \"xtb\", \"scale\": {\"zero\": false}}}}, {\"mark\": {\"type\": \"line\", \"interpolate\": \"natural\", \"stroke\": \"#57A44C\"}, \"encoding\": {\"x\": {\"type\": \"quantitative\", \"axis\": {\"title\": null}, \"field\": \"angle\", \"scale\": {\"domain\": [0, 360, 350]}}, \"y\": {\"type\": \"quantitative\", \"axis\": {\"title\": \"MMFF energy\", \"titleColor\": \"#57A44C\"}, \"field\": \"MMFF\", \"scale\": {\"zero\": false}}}}], \"data\": {\"name\": \"data-3f417b187ecd8471d5f46a3aafca9074\"}, \"resolve\": {\"scale\": {\"y\": \"independent\"}}, \"$schema\": \"https://vega.github.io/schema/vega-lite/v4.8.1.json\", \"datasets\": {\"data-3f417b187ecd8471d5f46a3aafca9074\": [{\"angle\": 0, \"xtb\": \"    -36.657590846418\", \"MMFF\": 28.820459004815024}, {\"angle\": 10, \"xtb\": \"    -36.658894930595\", \"MMFF\": 28.4727695355476}, {\"angle\": 20, \"xtb\": \"    -36.660361884739\", \"MMFF\": 27.6939446711934}, {\"angle\": 30, \"xtb\": \"    -36.662181628063\", \"MMFF\": 26.536993047851908}, {\"angle\": 40, \"xtb\": \"    -36.664110884763\", \"MMFF\": 25.20331633227484}, {\"angle\": 50, \"xtb\": \"    -36.665869772183\", \"MMFF\": 23.932257115653748}, {\"angle\": 60, \"xtb\": \"    -36.667186893319\", \"MMFF\": 22.914363652205154}, {\"angle\": 70, \"xtb\": \"    -36.667911060838\", \"MMFF\": 22.197527962776146}, {\"angle\": 80, \"xtb\": \"    -36.668021434008\", \"MMFF\": 21.778920731006966}, {\"angle\": 90, \"xtb\": \"    -36.668021434008\", \"MMFF\": 21.64739047548644}, {\"angle\": 100, \"xtb\": \"    -36.666742107507\", \"MMFF\": 21.73606399206476}, {\"angle\": 110, \"xtb\": \"    -36.665654005491\", \"MMFF\": 21.947237149205844}, {\"angle\": 120, \"xtb\": \"    -36.664604553908\", \"MMFF\": 22.17603581170521}, {\"angle\": 130, \"xtb\": \"    -36.664604553908\", \"MMFF\": 22.334448991139972}, {\"angle\": 140, \"xtb\": \"    -36.664604553908\", \"MMFF\": 22.326216713457566}, {\"angle\": 150, \"xtb\": \"    -36.666116237362\", \"MMFF\": 20.669333214727562}, {\"angle\": 160, \"xtb\": \"    -36.666116237362\", \"MMFF\": 20.168025075070442}, {\"angle\": 170, \"xtb\": \"    -36.667314677487\", \"MMFF\": 19.838316417714253}, {\"angle\": 180, \"xtb\": \"    -36.667487335615\", \"MMFF\": 19.72504687152755}, {\"angle\": 190, \"xtb\": \"    -36.667314677168\", \"MMFF\": 19.838316355433783}, {\"angle\": 200, \"xtb\": \"    -36.667314677168\", \"MMFF\": 20.168025098497075}, {\"angle\": 210, \"xtb\": \"    -36.666116858193\", \"MMFF\": 20.66933331121422}, {\"angle\": 220, \"xtb\": \"    -36.665320074200\", \"MMFF\": 21.261304951386762}, {\"angle\": 230, \"xtb\": \"    -36.664601377950\", \"MMFF\": 21.826029389396254}, {\"angle\": 240, \"xtb\": \"    -36.664119803716\", \"MMFF\": 22.247073072448764}, {\"angle\": 250, \"xtb\": \"    -36.665426456096\", \"MMFF\": 22.47494773414066}, {\"angle\": 260, \"xtb\": \"    -36.665426456096\", \"MMFF\": 22.56970165344216}, {\"angle\": 270, \"xtb\": \"    -36.665426456096\", \"MMFF\": 22.633290543392267}, {\"angle\": 280, \"xtb\": \"    -36.667779707045\", \"MMFF\": 22.710224236859823}, {\"angle\": 290, \"xtb\": \"    -36.667686486242\", \"MMFF\": 22.266835102586604}, {\"angle\": 300, \"xtb\": \"    -36.666994856598\", \"MMFF\": 22.954697047878643}, {\"angle\": 310, \"xtb\": \"    -36.665713347862\", \"MMFF\": 23.94153700574443}, {\"angle\": 320, \"xtb\": \"    -36.663989132353\", \"MMFF\": 25.192204383039265}, {\"angle\": 330, \"xtb\": \"    -36.662085332660\", \"MMFF\": 26.516878242047344}, {\"angle\": 340, \"xtb\": \"    -36.660286785454\", \"MMFF\": 27.674240930171596}, {\"angle\": 350, \"xtb\": \"    -36.658832060097\", \"MMFF\": 28.460694362525633}, {\"angle\": 360, \"xtb\": \"    -36.657589557851\", \"MMFF\": 28.745915792834893}]}}, {\"mode\": \"vega-lite\"});\n</script>",
      "text/plain": [
       "alt.LayerChart(...)"
      ]
     },
     "metadata": {},
     "execution_count": 132
    }
   ],
   "source": [
    "import numpy as np\n",
    "angle=np.array(range(0,370,10))\n",
    "\n",
    "dfxtb = pd.DataFrame({'angle':angle, 'xtb':energy,'MMFF':dfrdkit[\"energy\"]})\n",
    "#data = dfxtb.melt('angle')\n",
    "\n",
    "base = alt.Chart(dfxtb).encode(\n",
    "    alt.X('angle:Q', axis=alt.Axis(title=None),scale=alt.Scale(domain=[0,360,350]))\n",
    ")\n",
    "line1 = base.mark_line(stroke='#5276A7', interpolate='natural').encode(\n",
    "    alt.Y('xtb:Q',\n",
    "          axis=alt.Axis(title='xtb energy', titleColor='#5276A7'),scale=alt.Scale(zero=False))\n",
    ")\n",
    "line2 = base.mark_line(stroke='#57A44C', interpolate='natural').encode(\n",
    "    alt.Y('MMFF:Q',\n",
    "          axis=alt.Axis(title='MMFF energy', titleColor='#57A44C'),scale=alt.Scale(zero=False))\n",
    ")\n",
    "alt.layer(line1, line2).resolve_scale(\n",
    "    y = 'independent'\n",
    ")\n",
    "\n"
   ]
  },
  {
   "cell_type": "code",
   "execution_count": 10,
   "metadata": {},
   "outputs": [
    {
     "output_type": "error",
     "ename": "ModuleNotFoundError",
     "evalue": "No module named 'matplotlib'",
     "traceback": [
      "\u001b[0;31m---------------------------------------------------------------------------\u001b[0m",
      "\u001b[0;31mModuleNotFoundError\u001b[0m                       Traceback (most recent call last)",
      "\u001b[0;32m<ipython-input-10-a0d2faabd9e9>\u001b[0m in \u001b[0;36m<module>\u001b[0;34m\u001b[0m\n\u001b[0;32m----> 1\u001b[0;31m \u001b[0;32mimport\u001b[0m \u001b[0mmatplotlib\u001b[0m\u001b[0;34m.\u001b[0m\u001b[0mpyplot\u001b[0m \u001b[0;32mas\u001b[0m \u001b[0mplt\u001b[0m\u001b[0;34m\u001b[0m\u001b[0;34m\u001b[0m\u001b[0m\n\u001b[0m",
      "\u001b[0;31mModuleNotFoundError\u001b[0m: No module named 'matplotlib'"
     ]
    }
   ],
   "source": []
  }
 ]
}