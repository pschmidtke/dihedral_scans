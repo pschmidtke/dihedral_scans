{
 "metadata": {
  "language_info": {
   "codemirror_mode": {
    "name": "ipython",
    "version": 3
   },
   "file_extension": ".py",
   "mimetype": "text/x-python",
   "name": "python",
   "nbconvert_exporter": "python",
   "pygments_lexer": "ipython3",
   "version": "3.7.9-final"
  },
  "orig_nbformat": 2,
  "kernelspec": {
   "name": "python3",
   "display_name": "Python 3.7.9 64-bit ('torsion': conda)",
   "metadata": {
    "interpreter": {
     "hash": "9538ff40b203b057fdbf926d7c7eefa8491369636116143f625d340c7d4f57db"
    }
   }
  }
 },
 "nbformat": 4,
 "nbformat_minor": 2,
 "cells": [
  {
   "cell_type": "code",
   "execution_count": 78,
   "metadata": {},
   "outputs": [
    {
     "output_type": "execute_result",
     "data": {
      "text/plain": [
       "<rdkit.Chem.rdchem.Mol at 0x7fbf18ae8030>"
      ]
     },
     "metadata": {},
     "execution_count": 78
    }
   ],
   "source": [
    "from rdkit import Chem\n",
    "from rdkit.Chem import AllChem\n",
    "import os, tempfile, shutil\n",
    "#from IPython.display import display\n",
    "from rdkit.Chem import Draw\n",
    "import py3Dmol\n",
    "\n",
    "\n",
    "mol=Chem.AddHs(Chem.MolFromSmiles('CCCOC1=CC=C(Cl)C(C)=C1'))\n",
    "for i, a in enumerate(mol.GetAtoms()):\n",
    "        a.SetAtomMapNum(i)\n",
    "AllChem.EmbedMolecule(mol,randomSeed=10)\n",
    "mol\n",
    "#Draw.MolToImage(mol, includeAtomNumbers=True,highlightAtoms=(1,2,3,4))\n",
    "\n",
    "\n"
   ]
  },
  {
   "cell_type": "code",
   "execution_count": 79,
   "metadata": {
    "tags": []
   },
   "outputs": [
    {
     "output_type": "execute_result",
     "data": {
      "text/html": "\n<div id=\"altair-viz-18407e1975f744eda3eb5d1af2387a04\"></div>\n<script type=\"text/javascript\">\n  (function(spec, embedOpt){\n    let outputDiv = document.currentScript.previousElementSibling;\n    if (outputDiv.id !== \"altair-viz-18407e1975f744eda3eb5d1af2387a04\") {\n      outputDiv = document.getElementById(\"altair-viz-18407e1975f744eda3eb5d1af2387a04\");\n    }\n    const paths = {\n      \"vega\": \"https://cdn.jsdelivr.net/npm//vega@5?noext\",\n      \"vega-lib\": \"https://cdn.jsdelivr.net/npm//vega-lib?noext\",\n      \"vega-lite\": \"https://cdn.jsdelivr.net/npm//vega-lite@4.8.1?noext\",\n      \"vega-embed\": \"https://cdn.jsdelivr.net/npm//vega-embed@6?noext\",\n    };\n\n    function loadScript(lib) {\n      return new Promise(function(resolve, reject) {\n        var s = document.createElement('script');\n        s.src = paths[lib];\n        s.async = true;\n        s.onload = () => resolve(paths[lib]);\n        s.onerror = () => reject(`Error loading script: ${paths[lib]}`);\n        document.getElementsByTagName(\"head\")[0].appendChild(s);\n      });\n    }\n\n    function showError(err) {\n      outputDiv.innerHTML = `<div class=\"error\" style=\"color:red;\">${err}</div>`;\n      throw err;\n    }\n\n    function displayChart(vegaEmbed) {\n      vegaEmbed(outputDiv, spec, embedOpt)\n        .catch(err => showError(`Javascript Error: ${err.message}<br>This usually means there's a typo in your chart specification. See the javascript console for the full traceback.`));\n    }\n\n    if(typeof define === \"function\" && define.amd) {\n      requirejs.config({paths});\n      require([\"vega-embed\"], displayChart, err => showError(`Error loading script: ${err.message}`));\n    } else if (typeof vegaEmbed === \"function\") {\n      displayChart(vegaEmbed);\n    } else {\n      loadScript(\"vega\")\n        .then(() => loadScript(\"vega-lite\"))\n        .then(() => loadScript(\"vega-embed\"))\n        .catch(showError)\n        .then(() => displayChart(vegaEmbed));\n    }\n  })({\"config\": {\"view\": {\"continuousWidth\": 400, \"continuousHeight\": 300}}, \"data\": {\"name\": \"data-45338c8b207fca362785e1aeb8fd24f8\"}, \"mark\": {\"type\": \"line\", \"interpolate\": \"natural\", \"point\": true}, \"encoding\": {\"x\": {\"type\": \"quantitative\", \"field\": \"angle\", \"scale\": {\"zero\": false}}, \"y\": {\"type\": \"quantitative\", \"field\": \"energy\", \"scale\": {\"zero\": false}}}, \"selection\": {\"selector036\": {\"type\": \"interval\", \"bind\": \"scales\", \"encodings\": [\"x\", \"y\"]}}, \"$schema\": \"https://vega.github.io/schema/vega-lite/v4.8.1.json\", \"datasets\": {\"data-45338c8b207fca362785e1aeb8fd24f8\": [{\"angle\": 0, \"energy\": 56.01317957426228}, {\"angle\": 10, \"energy\": 37.04743241337343}, {\"angle\": 20, \"energy\": 36.17473430806336}, {\"angle\": 30, \"energy\": 34.954984392966146}, {\"angle\": 40, \"energy\": 33.547343138261475}, {\"angle\": 50, \"energy\": 32.19109580337658}, {\"angle\": 60, \"energy\": 31.07728421054015}, {\"angle\": 70, \"energy\": 30.28314375093463}, {\"angle\": 80, \"energy\": 29.827148488956638}, {\"angle\": 90, \"energy\": 29.69572697012502}, {\"angle\": 100, \"energy\": 29.81903480249384}, {\"angle\": 110, \"energy\": 30.098662522157976}, {\"angle\": 120, \"energy\": 30.421325223777192}, {\"angle\": 130, \"energy\": 30.67439114217881}, {\"angle\": 140, \"energy\": 30.75191199627399}, {\"angle\": 150, \"energy\": 30.61920097750201}, {\"angle\": 160, \"energy\": 30.35291600664544}, {\"angle\": 170, \"energy\": 27.760424303341967}, {\"angle\": 180, \"energy\": 27.62791152775252}, {\"angle\": 190, \"energy\": 27.760424062715682}, {\"angle\": 200, \"energy\": 28.14535574561208}, {\"angle\": 210, \"energy\": 28.72654898727217}, {\"angle\": 220, \"energy\": 29.406396219110913}, {\"angle\": 230, \"energy\": 30.056116877539218}, {\"angle\": 240, \"energy\": 30.55533193710362}, {\"angle\": 250, \"energy\": 30.845528489619}, {\"angle\": 260, \"energy\": 30.964699989366576}, {\"angle\": 270, \"energy\": 31.00459154913429}, {\"angle\": 280, \"energy\": 29.82714861633686}, {\"angle\": 290, \"energy\": 30.283144185637386}, {\"angle\": 300, \"energy\": 31.077285403704476}, {\"angle\": 310, \"energy\": 32.19109694956674}, {\"angle\": 320, \"energy\": 33.54734206291866}, {\"angle\": 330, \"energy\": 34.95498625458528}, {\"angle\": 340, \"energy\": 36.17473487185214}, {\"angle\": 350, \"energy\": 36.998309566421476}, {\"angle\": 360, \"energy\": 37.28644734523654}]}}, {\"mode\": \"vega-lite\"});\n</script>",
      "text/plain": [
       "alt.Chart(...)"
      ]
     },
     "metadata": {},
     "execution_count": 79
    }
   ],
   "source": [
    "from rdkit.Chem import rdMolTransforms\n",
    "import altair as alt\n",
    "import copy\n",
    "import pandas as pd\n",
    "from rdkit.Chem import rdForceFieldHelpers\n",
    "from rdkit.Chem import ChemicalForceFields\n",
    "\n",
    "conformer=mol.GetConformer(0)\n",
    "mp = AllChem.MMFFGetMoleculeProperties(mol)\n",
    "\n",
    "mp.SetMMFFEleTerm(False)\n",
    "mp.SetMMFFOopTerm(False)\n",
    "mp.SetMMFFVdWTerm(True)\n",
    "ffm = AllChem.MMFFGetMoleculeForceField(mol, mp)\n",
    "m2=copy.deepcopy(mol)\n",
    "energy=[]\n",
    "confid=0\n",
    "for angle in range(0,370,10):\n",
    "    confid+=1\n",
    "    ff2 = AllChem.MMFFGetMoleculeForceField(m2, mp)\n",
    "    ff2.MMFFAddTorsionConstraint(1,2,3,4, False, angle - .1, angle + .1, 10000.0)\n",
    "    ff2.Minimize()\n",
    "    \n",
    "    xyz=ff2.Positions()\n",
    "    new_conf = Chem.Conformer(mol.GetNumAtoms())\n",
    "    for i in range(mol.GetNumAtoms()):\n",
    "        new_conf.SetAtomPosition(i, (m2.GetConformer(-1).GetAtomPosition(i)))\n",
    "    new_conf.SetId(confid)\n",
    "#    new_conf.Set3D(new_conf.Is3D())\n",
    "    mol.AddConformer(new_conf)\n",
    "    #energyTermBreakdown(mol)\n",
    "    #energy_value_M = ffm.CalcEnergy()\n",
    "    energy.append(ffm.CalcEnergy(ff2.Positions()))\n",
    "dfrdkit = pd.DataFrame({'angle':range(0,370,10), 'energy':energy})\n",
    "alt.Chart(dfrdkit).mark_line(point=True,interpolate=\"natural\").encode(\n",
    "    alt.X('angle:Q',\n",
    "        scale=alt.Scale(zero=False)\n",
    "    ),\n",
    "    alt.Y('energy:Q',\n",
    "        scale=alt.Scale(zero=False)\n",
    "    )\n",
    ").interactive()"
   ]
  },
  {
   "cell_type": "code",
   "execution_count": 80,
   "metadata": {},
   "outputs": [
    {
     "output_type": "display_data",
     "data": {
      "text/plain": "interactive(children=(IntSlider(value=18, description='confId', max=37), Output()), _dom_classes=('widget-inte…",
      "application/vnd.jupyter.widget-view+json": {
       "version_major": 2,
       "version_minor": 0,
       "model_id": "735dfc90872a4401a7be7e27102088f2"
      }
     },
     "metadata": {}
    },
    {
     "output_type": "execute_result",
     "data": {
      "text/plain": [
       "<function __main__.drawit(m, p, confId)>"
      ]
     },
     "metadata": {},
     "execution_count": 80
    }
   ],
   "source": [
    "from ipywidgets import interact, interactive, fixed\n",
    "patt = Chem.MolFromSmarts('c1ccccc1');patt\n",
    "match = mol.GetSubstructMatch(patt)\n",
    "\n",
    "AllChem.AlignMolConformers(mol,atomIds=match)\n",
    "\n",
    "\n",
    "def drawit(m,p,confId):\n",
    "    mb = Chem.MolToMolBlock(m,confId=confId)\n",
    "    p.removeAllModels()\n",
    "    p.addModel(mb,'sdf')\n",
    "    p.setStyle({'stick':{}})\n",
    "    p.setBackgroundColor('0xeeeeee')\n",
    "    p.zoomTo()\n",
    "    return p.show()\n",
    "viewer = py3Dmol.view(width=500, height=500)\n",
    "conformerIds=[conf.GetId() for conf in mol.GetConformers()]\n",
    "interact(drawit, m=fixed(mol),p=fixed(viewer),confId=(0,mol.GetNumConformers()-1))\n",
    "\n",
    "\n"
   ]
  },
  {
   "cell_type": "code",
   "execution_count": 61,
   "metadata": {},
   "outputs": [],
   "source": []
  },
  {
   "cell_type": "code",
   "execution_count": 81,
   "metadata": {},
   "outputs": [
    {
     "output_type": "stream",
     "name": "stdout",
     "text": [
      "0\n",
      "10\n",
      "20\n",
      "30\n",
      "40\n",
      "50\n",
      "60\n",
      "70\n",
      "80\n",
      "90\n",
      "100\n",
      "110\n",
      "120\n",
      "130\n",
      "140\n",
      "150\n",
      "160\n",
      "170\n",
      "180\n",
      "190\n",
      "200\n",
      "210\n",
      "220\n",
      "230\n",
      "240\n",
      "250\n",
      "260\n",
      "270\n",
      "280\n",
      "290\n",
      "300\n",
      "310\n",
      "320\n",
      "330\n",
      "340\n",
      "350\n",
      "360\n"
     ]
    }
   ],
   "source": [
    "#write the xtb input file:\n",
    "energy=[]\n",
    "import os\n",
    "for idx,deg in enumerate(range(0,370,10)):\n",
    "  print(deg)\n",
    "  w = Chem.SDWriter('mol.sdf')\n",
    "  w.write(mol,confId=idx+1)\n",
    "  w.close()\n",
    "\n",
    "  atoms = '2,3,4,5'\n",
    "  fh = open(\"dihedral_scan.inp\",\"w\")\n",
    "  fh.write(\"\"\"$constrain\n",
    "    force constant=1.05\n",
    "    dihedral: {},{}\n",
    "  $end\"\"\".format(atoms,float(deg)))\n",
    "  fh.close()\n",
    "  os.system(\"export OMP_STACKSIZE=48G && export OMP_NUM_THREADS=12,1 && xtb mol.sdf --opt vtight --charge 0 --input dihedral_scan.inp\")\n",
    "\n",
    "  sdr=Chem.SDMolSupplier(\"xtbopt.sdf\")\n",
    "  for xtbmol in sdr:\n",
    "      energy.append(xtbmol.GetProp(\"total energy / Eh\"))"
   ]
  },
  {
   "cell_type": "code",
   "execution_count": 94,
   "metadata": {},
   "outputs": [
    {
     "output_type": "execute_result",
     "data": {
      "text/html": "\n<div id=\"altair-viz-a147baf0eb4145bba190f40926d2bb73\"></div>\n<script type=\"text/javascript\">\n  (function(spec, embedOpt){\n    let outputDiv = document.currentScript.previousElementSibling;\n    if (outputDiv.id !== \"altair-viz-a147baf0eb4145bba190f40926d2bb73\") {\n      outputDiv = document.getElementById(\"altair-viz-a147baf0eb4145bba190f40926d2bb73\");\n    }\n    const paths = {\n      \"vega\": \"https://cdn.jsdelivr.net/npm//vega@5?noext\",\n      \"vega-lib\": \"https://cdn.jsdelivr.net/npm//vega-lib?noext\",\n      \"vega-lite\": \"https://cdn.jsdelivr.net/npm//vega-lite@4.8.1?noext\",\n      \"vega-embed\": \"https://cdn.jsdelivr.net/npm//vega-embed@6?noext\",\n    };\n\n    function loadScript(lib) {\n      return new Promise(function(resolve, reject) {\n        var s = document.createElement('script');\n        s.src = paths[lib];\n        s.async = true;\n        s.onload = () => resolve(paths[lib]);\n        s.onerror = () => reject(`Error loading script: ${paths[lib]}`);\n        document.getElementsByTagName(\"head\")[0].appendChild(s);\n      });\n    }\n\n    function showError(err) {\n      outputDiv.innerHTML = `<div class=\"error\" style=\"color:red;\">${err}</div>`;\n      throw err;\n    }\n\n    function displayChart(vegaEmbed) {\n      vegaEmbed(outputDiv, spec, embedOpt)\n        .catch(err => showError(`Javascript Error: ${err.message}<br>This usually means there's a typo in your chart specification. See the javascript console for the full traceback.`));\n    }\n\n    if(typeof define === \"function\" && define.amd) {\n      requirejs.config({paths});\n      require([\"vega-embed\"], displayChart, err => showError(`Error loading script: ${err.message}`));\n    } else if (typeof vegaEmbed === \"function\") {\n      displayChart(vegaEmbed);\n    } else {\n      loadScript(\"vega\")\n        .then(() => loadScript(\"vega-lite\"))\n        .then(() => loadScript(\"vega-embed\"))\n        .catch(showError)\n        .then(() => displayChart(vegaEmbed));\n    }\n  })({\"config\": {\"view\": {\"continuousWidth\": 400, \"continuousHeight\": 300}}, \"layer\": [{\"mark\": {\"type\": \"line\", \"interpolate\": \"natural\", \"stroke\": \"#5276A7\"}, \"encoding\": {\"x\": {\"type\": \"quantitative\", \"axis\": {\"title\": null}, \"field\": \"angle\", \"scale\": {\"domain\": [0, 360, 350]}}, \"y\": {\"type\": \"quantitative\", \"axis\": {\"title\": \"xtb energy\", \"titleColor\": \"#5276A7\"}, \"field\": \"xtb\", \"scale\": {\"zero\": false}}}}, {\"mark\": {\"type\": \"line\", \"interpolate\": \"natural\", \"stroke\": \"#57A44C\"}, \"encoding\": {\"x\": {\"type\": \"quantitative\", \"axis\": {\"title\": null}, \"field\": \"angle\", \"scale\": {\"domain\": [0, 360, 350]}}, \"y\": {\"type\": \"quantitative\", \"axis\": {\"title\": \"MMFF energy\", \"titleColor\": \"#57A44C\"}, \"field\": \"MMFF\", \"scale\": {\"zero\": false}}}}], \"data\": {\"name\": \"data-f25626ad5ccdf7e28b2db0a38f6a3526\"}, \"resolve\": {\"scale\": {\"y\": \"independent\"}}, \"$schema\": \"https://vega.github.io/schema/vega-lite/v4.8.1.json\", \"datasets\": {\"data-f25626ad5ccdf7e28b2db0a38f6a3526\": [{\"angle\": 0, \"xtb\": \"    -36.657955283708\", \"MMFF\": 56.01317957426228}, {\"angle\": 10, \"xtb\": \"    -36.658894294577\", \"MMFF\": 37.04743241337343}, {\"angle\": 20, \"xtb\": \"    -36.660363787872\", \"MMFF\": 36.17473430806336}, {\"angle\": 30, \"xtb\": \"    -36.662180212918\", \"MMFF\": 34.954984392966146}, {\"angle\": 40, \"xtb\": \"    -36.664110421320\", \"MMFF\": 33.547343138261475}, {\"angle\": 50, \"xtb\": \"    -36.664110421320\", \"MMFF\": 32.19109580337658}, {\"angle\": 60, \"xtb\": \"    -36.667189263039\", \"MMFF\": 31.07728421054015}, {\"angle\": 70, \"xtb\": \"    -36.667911292525\", \"MMFF\": 30.28314375093463}, {\"angle\": 80, \"xtb\": \"    -36.668021235961\", \"MMFF\": 29.827148488956638}, {\"angle\": 90, \"xtb\": \"    -36.667590849331\", \"MMFF\": 29.69572697012502}, {\"angle\": 100, \"xtb\": \"    -36.666741525194\", \"MMFF\": 29.81903480249384}, {\"angle\": 110, \"xtb\": \"    -36.665661781911\", \"MMFF\": 30.098662522157976}, {\"angle\": 120, \"xtb\": \"    -36.664604443621\", \"MMFF\": 30.421325223777192}, {\"angle\": 130, \"xtb\": \"    -36.664816989490\", \"MMFF\": 30.67439114217881}, {\"angle\": 140, \"xtb\": \"    -36.665522900830\", \"MMFF\": 30.75191199627399}, {\"angle\": 150, \"xtb\": \"    -36.666314527323\", \"MMFF\": 30.61920097750201}, {\"angle\": 160, \"xtb\": \"    -36.667028360622\", \"MMFF\": 30.35291600664544}, {\"angle\": 170, \"xtb\": \"    -36.667518014629\", \"MMFF\": 27.760424303341967}, {\"angle\": 180, \"xtb\": \"    -36.667692566966\", \"MMFF\": 27.62791152775252}, {\"angle\": 190, \"xtb\": \"    -36.667518018855\", \"MMFF\": 27.760424062715682}, {\"angle\": 200, \"xtb\": \"    -36.667028371509\", \"MMFF\": 28.14535574561208}, {\"angle\": 210, \"xtb\": \"    -36.666315836948\", \"MMFF\": 28.72654898727217}, {\"angle\": 220, \"xtb\": \"    -36.665523539149\", \"MMFF\": 29.406396219110913}, {\"angle\": 230, \"xtb\": \"    -36.664816529284\", \"MMFF\": 30.056116877539218}, {\"angle\": 240, \"xtb\": \"    -36.664366129859\", \"MMFF\": 30.55533193710362}, {\"angle\": 250, \"xtb\": \"    -36.665661444865\", \"MMFF\": 30.845528489619}, {\"angle\": 260, \"xtb\": \"    -36.666741934303\", \"MMFF\": 30.964699989366576}, {\"angle\": 270, \"xtb\": \"    -36.667591058575\", \"MMFF\": 31.00459154913429}, {\"angle\": 280, \"xtb\": \"    -36.668021235233\", \"MMFF\": 29.82714861633686}, {\"angle\": 290, \"xtb\": \"    -36.667911295493\", \"MMFF\": 30.283144185637386}, {\"angle\": 300, \"xtb\": \"    -36.667189322550\", \"MMFF\": 31.077285403704476}, {\"angle\": 310, \"xtb\": \"    -36.665868468993\", \"MMFF\": 32.19109694956674}, {\"angle\": 320, \"xtb\": \"    -36.665868468993\", \"MMFF\": 33.54734206291866}, {\"angle\": 330, \"xtb\": \"    -36.662180193314\", \"MMFF\": 34.95498625458528}, {\"angle\": 340, \"xtb\": \"    -36.662180193314\", \"MMFF\": 36.17473487185214}, {\"angle\": 350, \"xtb\": \"    -36.658892747827\", \"MMFF\": 36.998309566421476}, {\"angle\": 360, \"xtb\": \"    -36.657590846418\", \"MMFF\": 37.28644734523654}]}}, {\"mode\": \"vega-lite\"});\n</script>",
      "text/plain": [
       "alt.LayerChart(...)"
      ]
     },
     "metadata": {},
     "execution_count": 94
    }
   ],
   "source": [
    "import numpy as np\n",
    "angle=np.array(range(0,370,10))\n",
    "\n",
    "dfxtb = pd.DataFrame({'angle':angle, 'xtb':energy,'MMFF':dfrdkit[\"energy\"]})\n",
    "#data = dfxtb.melt('angle')\n",
    "\n",
    "base = alt.Chart(dfxtb).encode(\n",
    "    alt.X('angle:Q', axis=alt.Axis(title=None),scale=alt.Scale(domain=[0,360,350]))\n",
    ")\n",
    "line1 = base.mark_line(stroke='#5276A7', interpolate='natural').encode(\n",
    "    alt.Y('xtb:Q',\n",
    "          axis=alt.Axis(title='xtb energy', titleColor='#5276A7'),scale=alt.Scale(zero=False))\n",
    ")\n",
    "line2 = base.mark_line(stroke='#57A44C', interpolate='natural').encode(\n",
    "    alt.Y('MMFF:Q',\n",
    "          axis=alt.Axis(title='MMFF energy', titleColor='#57A44C'),scale=alt.Scale(zero=False))\n",
    ")\n",
    "alt.layer(line1, line2).resolve_scale(\n",
    "    y = 'independent'\n",
    ")\n",
    "\n"
   ]
  },
  {
   "cell_type": "code",
   "execution_count": null,
   "metadata": {},
   "outputs": [],
   "source": []
  }
 ]
}